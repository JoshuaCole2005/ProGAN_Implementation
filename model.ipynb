{
 "cells": [
  {
   "cell_type": "code",
   "execution_count": 108,
   "metadata": {},
   "outputs": [],
   "source": [
    "import torch\n",
    "import torch.nn as nn\n",
    "import torch.nn.functional as F\n",
    "from math import log2"
   ]
  },
  {
   "cell_type": "markdown",
   "metadata": {},
   "source": [
    "Conv2d with equalized learning rate"
   ]
  },
  {
   "cell_type": "code",
   "execution_count": 109,
   "metadata": {},
   "outputs": [],
   "source": [
    "class E_Conv2d(nn.Module):\n",
    "    def __init__(self, in_channels, out_channels, kernel_size=3, stride=1, padding=1, gain=2):\n",
    "        super().__init__()\n",
    "        self.convolutional = nn.Conv2d(in_channels, out_channels, kernel_size, stride, padding)\n",
    "        self.a = (gain / (in_channels * (kernel_size ** 2))) ** 0.5\n",
    "        self.biases = self.convolutional.bias\n",
    "        self.convolutional.bias = None\n",
    "\n",
    "        nn.init.normal_(self.convolutional.weight)\n",
    "        nn.init.zeros_(self.biases)\n",
    "\n",
    "    def forward(self, x):\n",
    "        return self.convolutional(x * self.a) + self.biases.view(1, self.biases.shape[0], 1, 1)"
   ]
  },
  {
   "cell_type": "markdown",
   "metadata": {},
   "source": [
    "Pixel Normalization"
   ]
  },
  {
   "cell_type": "code",
   "execution_count": 110,
   "metadata": {},
   "outputs": [],
   "source": [
    "class Pixel_Normalization(nn.Module):\n",
    "    def __init__(self):\n",
    "        super().__init__()\n",
    "        self.epsilon = 1e-8\n",
    "\n",
    "    def forward(self, x):\n",
    "        return x / torch.sqrt(torch.mean(x ** 2, dim=1, keepdim=True) + self.epsilon)"
   ]
  },
  {
   "cell_type": "markdown",
   "metadata": {},
   "source": [
    "Convolutional Block"
   ]
  },
  {
   "cell_type": "code",
   "execution_count": 111,
   "metadata": {},
   "outputs": [],
   "source": [
    "class Convolutional_Block(nn.Module):\n",
    "    def __init__(self, in_channels, out_channels, pixel_norm=True):\n",
    "        super().__init__()\n",
    "        self.convolutional_layer_1 = E_Conv2d(in_channels, out_channels)\n",
    "        self.convolutional_layer_2 = E_Conv2d(out_channels, out_channels)\n",
    "        self.activation = nn.LeakyReLU(0.2)\n",
    "        self.normalization = Pixel_Normalization()\n",
    "        self.pixel_norm = pixel_norm\n",
    "\n",
    "    def forward(self, x):\n",
    "        x = self.activation(self.convolutional_layer_1(x))\n",
    "        x = self.normalization(x) if self.pixel_norm else x\n",
    "        x = self.activation(self.convolutional_layer_2(x))\n",
    "        x = self.normalization(x) if self.pixel_norm else x\n",
    "        return x"
   ]
  },
  {
   "cell_type": "markdown",
   "metadata": {},
   "source": [
    "Generator"
   ]
  },
  {
   "cell_type": "code",
   "execution_count": 112,
   "metadata": {},
   "outputs": [],
   "source": [
    "class Generator(nn.Module):\n",
    "    def __init__(self, z_dim, in_channels, img_channels=3):\n",
    "        super().__init__()\n",
    "        self.first = nn.Sequential(\n",
    "            Pixel_Normalization(),\n",
    "            nn.ConvTranspose2d(z_dim, in_channels, 4, 1, 0),\n",
    "            nn.LeakyReLU(0.2),\n",
    "            E_Conv2d(in_channels, in_channels),\n",
    "            nn.LeakyReLU(0.2),\n",
    "            Pixel_Normalization(),\n",
    "        )\n",
    "        self.rgb_i = E_Conv2d(in_channels, img_channels, kernel_size=1, padding=0)\n",
    "        self.progressive_blocks = nn.ModuleList([])\n",
    "        self.rgb_layers = nn.ModuleList([self.rgb_i])\n",
    "        ratios = [1, 1, 1, 1, 1/2, 1/4, 1/8, 1/16, 1/32]\n",
    "        for i in range(len(ratios) - 1):\n",
    "            input_channels = int(in_channels * ratios[i])\n",
    "            output_channels = int(in_channels * ratios[i + 1])\n",
    "            self.progressive_blocks.append(Convolutional_Block(input_channels, output_channels))\n",
    "            self.rgb_layers.append(E_Conv2d(output_channels, img_channels, kernel_size=1, padding=0))\n",
    "\n",
    "        \n",
    "    def fade_layer(self, a, upscaled, output):\n",
    "        return torch.tanh(a * output + (1 - a) * upscaled)\n",
    "\n",
    "    def forward(self, x, a, steps):\n",
    "        output = self.first(x)\n",
    "\n",
    "        if steps == 0:\n",
    "            return self.rgb_i(output)\n",
    "\n",
    "        for step in range(steps):\n",
    "            upscaled = F.interpolate(output, scale_factor=2, mode=\"nearest\")\n",
    "            output = self.progressive_blocks[step](upscaled)\n",
    "\n",
    "        last_upscale = self.rgb_layers[steps - 1](upscaled)\n",
    "        last_output = self.rgb_layers[steps](output)\n",
    "        return self.fade_layer(a, last_upscale, last_output)"
   ]
  },
  {
   "cell_type": "markdown",
   "metadata": {},
   "source": [
    "Discriminator"
   ]
  },
  {
   "cell_type": "code",
   "execution_count": 123,
   "metadata": {},
   "outputs": [],
   "source": [
    "class Discriminator(nn.Module):\n",
    "    def __init__(self, z_dim, in_channels, img_channels=3):\n",
    "        super().__init__()\n",
    "        self.activation = nn.LeakyReLU(0.2)\n",
    "        self.progressive_blocks = nn.ModuleList([])\n",
    "        self.rgb_layers = nn.ModuleList([])\n",
    "        ratios = [1, 1, 1, 1, 1/2, 1/4, 1/8, 1/16, 1/32]\n",
    "        for i in range(len(ratios) - 1, 0, -1):\n",
    "            input_channels = int(in_channels * ratios[i])\n",
    "            output_channels = int(in_channels * ratios[i - 1])\n",
    "            self.progressive_blocks.append(Convolutional_Block(input_channels, output_channels, pixel_norm=False))\n",
    "            self.rgb_layers.append(E_Conv2d(img_channels, input_channels, kernel_size=1, padding=0))\n",
    "        self.rgb_i = E_Conv2d(img_channels, in_channels, kernel_size=1, padding=0)\n",
    "        self.rgb_layers.append(self.rgb_i)\n",
    "        self.downscale = nn.AvgPool2d(kernel_size=2, stride=2)\n",
    "        self.last = nn.Sequential(\n",
    "            E_Conv2d(in_channels + 1, in_channels),\n",
    "            nn.LeakyReLU(0.2),\n",
    "            E_Conv2d(in_channels, in_channels, kernel_size=4, padding=0),\n",
    "            nn.LeakyReLU(0.2),\n",
    "            nn.Flatten(),\n",
    "            nn.Linear(in_channels, 1),\n",
    "        )\n",
    "        self.last_2 = nn.Sequential(\n",
    "            E_Conv2d(in_channels, in_channels),\n",
    "            nn.LeakyReLU(0.2),\n",
    "            E_Conv2d(in_channels, in_channels, kernel_size=4, padding=0),\n",
    "            nn.LeakyReLU(0.2),\n",
    "            nn.Flatten(),\n",
    "            nn.Linear(in_channels, 1),\n",
    "        )\n",
    "\n",
    "    def fade_layer(self, a, downscaled, output):\n",
    "        return a * output + (1 - a) * downscaled\n",
    "\n",
    "    def minibatch_std(self, x):\n",
    "        stats = (torch.std(x, dim=0).mean().repeat(x.shape[0], 1, x.shape[2], x.shape[3]))\n",
    "        return torch.cat([x, stats], dim=1)\n",
    "\n",
    "    def forward(self, x, a, steps):\n",
    "        step = len(self.progressive_blocks) - steps\n",
    "        output = self.activation(self.rgb_layers[step](x))\n",
    "\n",
    "        if steps == 0:\n",
    "            ouput = self.minibatch_std(output)\n",
    "            return self.last_2(output).view(output.shape[0], -1)\n",
    "\n",
    "        downscaled = self.activation(self.rgb_layers[step + 1](self.downscale(x)))\n",
    "        output = self.downscale(self.progressive_blocks[step](output))\n",
    "        output = self.fade_layer(a, downscaled, output)\n",
    "\n",
    "        for i in range(step + 1, len(self.progressive_blocks)):\n",
    "            output = self.progressive_blocks[i](output)\n",
    "            output = self.downscale(output)\n",
    "\n",
    "        output = self.minibatch_std(output)\n",
    "        return self.last(output).view(output.shape[0], -1)"
   ]
  },
  {
   "cell_type": "code",
   "execution_count": null,
   "metadata": {},
   "outputs": [],
   "source": []
  }
 ],
 "metadata": {
  "kernelspec": {
   "display_name": "Python 3.9.12 ('base')",
   "language": "python",
   "name": "python3"
  },
  "language_info": {
   "codemirror_mode": {
    "name": "ipython",
    "version": 3
   },
   "file_extension": ".py",
   "mimetype": "text/x-python",
   "name": "python",
   "nbconvert_exporter": "python",
   "pygments_lexer": "ipython3",
   "version": "3.9.12"
  },
  "orig_nbformat": 4,
  "vscode": {
   "interpreter": {
    "hash": "ad2bdc8ecc057115af97d19610ffacc2b4e99fae6737bb82f5d7fb13d2f2c186"
   }
  }
 },
 "nbformat": 4,
 "nbformat_minor": 2
}
